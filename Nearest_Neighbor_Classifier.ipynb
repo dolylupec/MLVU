{
 "cells": [
  {
   "cell_type": "markdown",
   "id": "476820b3",
   "metadata": {},
   "source": [
    "Nearest Neighbor Classifier"
   ]
  },
  {
   "cell_type": "code",
   "execution_count": 2,
   "id": "0205cb61",
   "metadata": {},
   "outputs": [],
   "source": [
    "import numpy as np"
   ]
  },
  {
   "cell_type": "code",
   "execution_count": 4,
   "id": "d16671b8",
   "metadata": {},
   "outputs": [],
   "source": [
    "class NearestNeighbor:\n",
    "    def __init__(self):\n",
    "        pass\n",
    "    \n",
    "    def train(self, images, labels):\n",
    "        # simply remembers all the training data\n",
    "        self.images = images\n",
    "        self.labels = labels\n",
    "        \n",
    "    def predict(self, test_image):\n",
    "        # assume that each image is vectorized to 1D\n",
    "        min_dist = sys.maxint # maximum integer in python\n",
    "        for i in range(self.images.shape[0]):\n",
    "            dist = np.sum(np.abs(self.images[i, :] - test_image))\n",
    "            if dist < min_dist:\n",
    "                min_dist = dist\n",
    "                min_index = i\n",
    "                \n",
    "        return self.labels[min_index]"
   ]
  },
  {
   "cell_type": "markdown",
   "id": "a19d6ff1",
   "metadata": {},
   "source": [
    "Time complexity of this algorithm with N training examples\n",
    "\n",
    "- For training : O(1)\n",
    "- For prediction : O(N)"
   ]
  },
  {
   "cell_type": "code",
   "execution_count": null,
   "id": "0c292c23",
   "metadata": {},
   "outputs": [],
   "source": []
  }
 ],
 "metadata": {
  "kernelspec": {
   "display_name": "Python 3",
   "language": "python",
   "name": "python3"
  },
  "language_info": {
   "codemirror_mode": {
    "name": "ipython",
    "version": 3
   },
   "file_extension": ".py",
   "mimetype": "text/x-python",
   "name": "python",
   "nbconvert_exporter": "python",
   "pygments_lexer": "ipython3",
   "version": "3.8.8"
  }
 },
 "nbformat": 4,
 "nbformat_minor": 5
}
